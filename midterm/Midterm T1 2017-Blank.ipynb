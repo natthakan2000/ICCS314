{
 "cells": [
  {
   "cell_type": "markdown",
   "metadata": {},
   "source": [
    "# Midterm T1 2017"
   ]
  },
  {
   "cell_type": "code",
   "execution_count": 2,
   "metadata": {},
   "outputs": [],
   "source": [
    "%matplotlib inline\n",
    "import numpy as np\n",
    "from matplotlib import pyplot as plt\n",
    "from scipy.integrate import quad\n",
    "from scipy.stats import poisson\n",
    "from scipy.optimize import bisect"
   ]
  },
  {
   "cell_type": "markdown",
   "metadata": {},
   "source": [
    "The midterm consists of two parts: \n",
    "\n",
    " - **Easy Zone** which worth 100 point each which most of them you can just copy from exercise/homework\n",
    " - **Creative zone** which worth 150 points each.\n",
    " - The score for each sub question is equal unless indicated.\n",
    " - Comment your code!! If it takes me more than 5 minutes to figure out what your code does, I won't grade it.\n",
    " \n",
    " The total score is 900 but you will be graded out of 0.9*900=810."
   ]
  },
  {
   "cell_type": "markdown",
   "metadata": {},
   "source": [
    "# Easy Stuff (100 Each)"
   ]
  },
  {
   "cell_type": "markdown",
   "metadata": {},
   "source": [
    "### 1 Taylor Series\n",
    "\n",
    "1) Find the first 3 *non-zero* terms in Taylor series of\n",
    "$$f(x) = \\frac{1}{2-x}$$"
   ]
  },
  {
   "cell_type": "markdown",
   "metadata": {},
   "source": [
    "$\\frac{1}{2} + \\frac{x}{4} + \\frac{x^2}{8}$ 😁"
   ]
  },
  {
   "cell_type": "markdown",
   "metadata": {},
   "source": [
    "2) Use the Taylor series you found in 1) to find $$\\frac{1}{0.8}$$ **along with bound on error**."
   ]
  },
  {
   "cell_type": "code",
   "execution_count": null,
   "metadata": {},
   "outputs": [],
   "source": []
  },
  {
   "cell_type": "markdown",
   "metadata": {},
   "source": [
    "### 2 Bisection (100)"
   ]
  },
  {
   "cell_type": "markdown",
   "metadata": {},
   "source": [
    "We can find euler number $e$ by solving equation.\n",
    "\n",
    "$\\ln x = 1$\n",
    "\n",
    "\n"
   ]
  },
  {
   "cell_type": "markdown",
   "metadata": {},
   "source": [
    "1) If we want to find $e$ by bisection with starting bound of [2,3], how many iteration do we need to get it acuurate to $10^{-6}$"
   ]
  },
  {
   "cell_type": "code",
   "execution_count": null,
   "metadata": {},
   "outputs": [],
   "source": []
  },
  {
   "cell_type": "markdown",
   "metadata": {},
   "source": [
    "2) Find $e$ that is accurate up to $10^{-6}$."
   ]
  },
  {
   "cell_type": "code",
   "execution_count": null,
   "metadata": {},
   "outputs": [],
   "source": []
  },
  {
   "cell_type": "markdown",
   "metadata": {},
   "source": [
    "### 3. Newton's method (100)"
   ]
  },
  {
   "cell_type": "markdown",
   "metadata": {},
   "source": [
    "1) Find Newton's method update rule for solving\n",
    "\n",
    "$\\sin(x) + e^x + \\cos(x) = 5$\n"
   ]
  },
  {
   "cell_type": "code",
   "execution_count": null,
   "metadata": {},
   "outputs": [],
   "source": []
  },
  {
   "cell_type": "markdown",
   "metadata": {},
   "source": [
    "2) Solve the above equation. Pick appropriate starting point."
   ]
  },
  {
   "cell_type": "code",
   "execution_count": null,
   "metadata": {},
   "outputs": [],
   "source": []
  },
  {
   "cell_type": "markdown",
   "metadata": {},
   "source": [
    "3) Draw an example when Newton's method doesn't work."
   ]
  },
  {
   "cell_type": "code",
   "execution_count": null,
   "metadata": {},
   "outputs": [],
   "source": []
  },
  {
   "cell_type": "markdown",
   "metadata": {},
   "source": [
    "### 4. Derivative (100)"
   ]
  },
  {
   "cell_type": "markdown",
   "metadata": {},
   "source": [
    "1) Plot the first and second derivative of $f(x) = e^{-x} \\sin(x)$"
   ]
  },
  {
   "cell_type": "code",
   "execution_count": null,
   "metadata": {},
   "outputs": [],
   "source": []
  },
  {
   "cell_type": "markdown",
   "metadata": {},
   "source": [
    "2) Which formula is better for approximating $f'(x)$. Answer with no justification recieve no credit.\n",
    "$$\n",
    "g_1(x) = \\frac{f(x+h) - 4 f(x-h) + 3 f(x)}{6h}\n",
    "$$\n",
    "\n",
    "$$\n",
    "g_2(x) = \\frac{f(x+2h) - 3f(x-h) + 2f(x)}{5h}\n",
    "$$"
   ]
  },
  {
   "cell_type": "code",
   "execution_count": null,
   "metadata": {},
   "outputs": [],
   "source": []
  },
  {
   "cell_type": "markdown",
   "metadata": {},
   "source": [
    "### 5. Legendre (100)"
   ]
  },
  {
   "cell_type": "markdown",
   "metadata": {},
   "source": [
    "1) Find Legendre Polynomial which passes through all these point."
   ]
  },
  {
   "cell_type": "code",
   "execution_count": 36,
   "metadata": {},
   "outputs": [
    {
     "data": {
      "text/plain": [
       "[<matplotlib.lines.Line2D at 0x1071bb400>]"
      ]
     },
     "execution_count": 36,
     "metadata": {},
     "output_type": "execute_result"
    },
    {
     "data": {
      "image/png": "[encoded data removed]",
      "text/plain": [
       "<matplotlib.figure.Figure at 0x107297668>"
      ]
     },
     "metadata": {},
     "output_type": "display_data"
    }
   ],
   "source": [
    "xs = np.array([1,3,5,7,8,9,11])\n",
    "ys = np.array([-2.,1,0,-1,0,1,2])\n",
    "plt.plot(xs, ys, 'o')"
   ]
  },
  {
   "cell_type": "markdown",
   "metadata": {},
   "source": [
    "### 6. Integral (100)"
   ]
  },
  {
   "cell_type": "markdown",
   "metadata": {},
   "source": [
    "1) We want to calculate\n",
    "\n",
    "$$\\int_3^7 x^3 +1 \\; dx$$\n",
    "\n",
    "using trapezoid rule such that the answer is at most $10^{-5}$ away from the real answer how many pieces do we need?"
   ]
  },
  {
   "cell_type": "code",
   "execution_count": null,
   "metadata": {},
   "outputs": [],
   "source": []
  },
  {
   "cell_type": "markdown",
   "metadata": {},
   "source": [
    "2) Use trapezoid rule to calculate\n",
    "$$\\int_3^7 x^3 + 1 \\; dx$$\n",
    "such that your answer is at most $10^{-5}$ from the real answer.\n",
    "\n"
   ]
  },
  {
   "cell_type": "code",
   "execution_count": null,
   "metadata": {},
   "outputs": [],
   "source": []
  },
  {
   "cell_type": "markdown",
   "metadata": {},
   "source": [
    "# Creative Stuff (It's actually easier than you think.)"
   ]
  },
  {
   "cell_type": "markdown",
   "metadata": {},
   "source": [
    "### 7. The other Legendre Polynomial.\n",
    "\n",
    "Legendre did so many things in the past sometimes we have name clash. This is a different one from what we learned in class. This Legendre Polynomial shows up many places in Physics, Engineering and data analysis. https://en.wikipedia.org/wiki/Legendre_polynomials\n",
    "\n",
    "In the homework we did fourier series where we found we can approximate complex function as a sum of sine and cosine. We can do the same thing, but instead of using sine and cosine. We will be using (the other) Legendre Polynomail. Let us get started.\n",
    "\n",
    "Legendre polynomial can be computed recursively by using the following recurrence formula:\n",
    "$$\n",
    "    P_0(x) = 1 \\\\\n",
    "    P_1(x) = x\n",
    "$$\n",
    "and \n",
    "$$\n",
    "    P_{n+1} = \\frac{1}{n+1}\\left[(2n+1)xP_n(x) - nP_{n-1}(x)\\right]\n",
    "$$\n",
    "or equivalently(this is easier for coding)\n",
    "$$\n",
    "    P_{n} = \\frac{1}{n}\\left[ (2n-1) x P_{n-1}(x) - (n-1)P_{n-2}(x)\\right]\n",
    "$$"
   ]
  },
  {
   "cell_type": "markdown",
   "metadata": {},
   "source": [
    "**Task 1** Write a function $P(x, n)$ which computes $P_n(x)$. Check your answer by plotting your $P(x, 4)$ against \n",
    "$$P_4(x) = \\frac{1}{8}(35x^4-30x^2+3)$$ \n",
    "there are couple more for you to check given on wikipedia."
   ]
  },
  {
   "cell_type": "code",
   "execution_count": 18,
   "metadata": {},
   "outputs": [
    {
     "data": {
      "text/plain": [
       "1.0"
      ]
     },
     "execution_count": 18,
     "metadata": {},
     "output_type": "execute_result"
    }
   ],
   "source": [
    "def P(x,n):\n",
    "    if n == 0:\n",
    "        return 1\n",
    "    elif n == 1:\n",
    "        return x\n",
    "    else:\n",
    "        return (1/n)*((2*n-1)*x*P(x,n-1)-(n-1)*P(x,n-2))\n",
    "P(1,4)"
   ]
  },
  {
   "cell_type": "markdown",
   "metadata": {},
   "source": [
    "**Task 2** Legendre Polynomial has a very nice property that is\n",
    "$$\n",
    "\\int_{-1}^{1} P_n(x)P_m(x) \\; dx = \\begin{cases} \n",
    "0 & \\text{if }n\\neq m \\\\\n",
    "\\frac{2}{2n+1} & \\text{if } n = m\n",
    "\\end{cases}\n",
    "$$\n",
    "\n",
    "We know something about how to get computer to do integral. **Numerically show that this property is true for all pairs of n,m from 0 to 4.**\n",
    "\n",
    "Clarification: Write a function that compute the right handside quickly and compare left and right hand side. Pick a suitable number of subdivision. They should be close enough."
   ]
  },
  {
   "cell_type": "code",
   "execution_count": 19,
   "metadata": {},
   "outputs": [
    {
     "data": {
      "text/plain": [
       "[<matplotlib.lines.Line2D at 0x1321ed950>]"
      ]
     },
     "execution_count": 19,
     "metadata": {},
     "output_type": "execute_result"
    },
    {
     "data": {
      "image/png": "[encoded data removed]",
      "text/plain": [
       "<Figure size 432x288 with 1 Axes>"
      ]
     },
     "metadata": {
      "needs_background": "light"
     },
     "output_type": "display_data"
    }
   ],
   "source": [
    "allnm = [ (i,j) for i in range(5) for j in range(5)]\n",
    "def right(nm):\n",
    "    n = nm[0]\n",
    "    m = nm[1]\n",
    "    if n != m:\n",
    "        return 0\n",
    "    else:\n",
    "        return 2/(2*n+1)\n",
    "def left(nm):\n",
    "    n = nm[0]\n",
    "    m = nm[1]\n",
    "    def f(x):\n",
    "        return P(x,n)*P(x,m)\n",
    "    return quad(f,-1,1)[0]\n",
    "rs = [right(nm) for nm in allnm]\n",
    "ls = [left(nm) for nm in allnm]\n",
    "plt.plot(rs,ls)"
   ]
  },
  {
   "cell_type": "markdown",
   "metadata": {},
   "source": [
    "**Task 3** The property we learned in Task2 is called Orthorgornality. This is actually what make fourier series magic in the homework works. This means that we can also write a complex function as a sum of Legendre Polynomials just as we did with sine and cosine in homework.\n",
    "\n",
    "$$\n",
    "    f(x) = a_0 P_0(x) + a_1 P_1(x) + a_2 P_2(x) + a_3 P_3(x) + a_4 P_4(x) + \\ldots\n",
    "$$\n",
    "\n",
    "where\n",
    "\n",
    "$$\n",
    "    a_i = \\frac{2i+1}{2}\\int_{-1}^{1} f(x) P_i(x) dx\n",
    "$$\n",
    "(Bonus:(0.0000000001 Point) Prove the above formula.)\n",
    "\n",
    "For example, an approximation of triangle function using sum of Legendre Polynomial for triangle function is shown below.\n",
    "![Triangle Aproximation](leg_series.png)\n",
    "\n",
    "**Your job: Find all the coefficient and make the plot above**\n",
    "\n",
    "Note: up to P20 one may take a while so do up to P5 and P10 and make sure you get it right first."
   ]
  },
  {
   "cell_type": "code",
   "execution_count": 29,
   "metadata": {},
   "outputs": [
    {
     "data": {
      "text/plain": [
       "[<matplotlib.lines.Line2D at 0x133455cd0>]"
      ]
     },
     "execution_count": 29,
     "metadata": {},
     "output_type": "execute_result"
    },
    {
     "data": {
      "image/png": "[encoded data removed]",
      "text/plain": [
       "<Figure size 432x288 with 1 Axes>"
      ]
     },
     "metadata": {
      "needs_background": "light"
     },
     "output_type": "display_data"
    }
   ],
   "source": [
    "def triangle(x):\n",
    "    return 1 - abs(x)\n",
    "xs = np.linspace(-1,1,100)\n",
    "ys = [triangle(x) for x in xs]\n",
    "plt.plot(xs,ys)\n",
    "def a_i(i):\n",
    "    def f(x):\n",
    "        return triangle(x) * P(x,i)\n",
    "    return (2*i+1)/2*quad(f,-1,1)[0]\n",
    "def ans(x,n):\n",
    "    sum = 0\n",
    "    for i in range(n):\n",
    "        sum += a_i(i) * P(x,i)\n",
    "    return sum\n",
    "xss = np.linspace(-1,1,100)\n",
    "yss = [ans(x,5) for x in xss]\n",
    "ysss = [ans(x,10) for x in xss]\n",
    "yssss = [ans(x,20) for x in xss]\n",
    "plt.plot(xss,yss)\n",
    "plt.plot(xss,ysss)\n",
    "plt.plot(xss,yssss)"
   ]
  },
  {
   "cell_type": "markdown",
   "metadata": {},
   "source": [
    "### 8 Ply's Buffet Restaurant. (150)\n",
    "\n",
    "Since it's late evening and I know you are hungry. Let's do a problem about food.\n",
    "\n",
    "Ply apple shop business is doing very well so he expands his business line to Shabu Shabu Buffet called Meme Shabu since he know how to maximize the profit using Poisson distribution. Let us assume that the number of people who wants to eat at his restaurant each day also follows poisson distribution $P(x; \\lambda)$.\n",
    "\n",
    "It's not practical to determine how many days he sell off his buffet like in his apple shop since the food can go over a day. But Ply need to find some other method to determine the parameter $\\lambda$ which he can use to improve his business.\n",
    "\n",
    "Luckily Meme Shabu has a restaurant rating card which *every customer* fills. The rating goes from 5 to 0 stars and the nature of rating customer gives goes as follow\n",
    " - First 50 people for that day will always give 5 stars(each). Since they got good service\n",
    " - Next 50 people, will give 4 stars(each).\n",
    " - Next 50 peole, will give 3 stars(each).\n",
    " - Next 50 peole, will give 2 stars(each).\n",
    " - Next 50 peole, will give 1 stars(each).\n",
    " - The rest will either give 0 star(since they didn't receive service).\n",
    " \n",
    "For example, if there are 157 people who wants to eat at Meme Shabu. The total number of star would be $50*5 + 50*4 + 50*3 + 7*2$. It goes like tax bracket you did in programming 1.\n",
    "\n",
    "Ply found that on average the **total** number of stars his Shabu restaurant gets is 500 stars. **Find $\\lambda$.**"
   ]
  },
  {
   "cell_type": "code",
   "execution_count": null,
   "metadata": {},
   "outputs": [],
   "source": []
  }
 ],
 "metadata": {
  "kernelspec": {
   "display_name": "Python 3",
   "language": "python",
   "name": "python3"
  },
  "language_info": {
   "codemirror_mode": {
    "name": "ipython",
    "version": 3
   },
   "file_extension": ".py",
   "mimetype": "text/x-python",
   "name": "python",
   "nbconvert_exporter": "python",
   "pygments_lexer": "ipython3",
   "version": "3.7.6"
  },
  "toc": {
   "colors": {
    "hover_highlight": "#DAA520",
    "running_highlight": "#FF0000",
    "selected_highlight": "#FFD700"
   },
   "moveMenuLeft": true,
   "nav_menu": {
    "height": "30px",
    "width": "252px"
   },
   "navigate_menu": true,
   "number_sections": false,
   "sideBar": true,
   "threshold": 4,
   "toc_cell": false,
   "toc_section_display": "block",
   "toc_window_display": false
  }
 },
 "nbformat": 4,
 "nbformat_minor": 2
}
