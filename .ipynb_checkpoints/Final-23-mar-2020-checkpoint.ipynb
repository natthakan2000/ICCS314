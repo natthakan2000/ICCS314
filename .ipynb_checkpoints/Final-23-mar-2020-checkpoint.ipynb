{
 "cells": [
  {
   "cell_type": "markdown",
   "metadata": {},
   "source": [
    "## Rule\n",
    "- Open everything. No communication regarding exam.\n",
    "- You will be graded out of 450."
   ]
  },
  {
   "cell_type": "code",
   "execution_count": 1,
   "metadata": {
    "ExecuteTime": {
     "end_time": "2020-03-22T17:44:17.489140Z",
     "start_time": "2020-03-22T17:44:17.107812Z"
    }
   },
   "outputs": [],
   "source": [
    "import numpy as np\n",
    "from matplotlib import pyplot as plt\n"
   ]
  },
  {
   "cell_type": "markdown",
   "metadata": {},
   "source": [
    "## Problem 1: (100)\n",
    "Some Theory. Make the correct statement **bold**"
   ]
  },
  {
   "cell_type": "markdown",
   "metadata": {},
   "source": [
    "1. When we found that gradient descent does not converge. We should (increase/**decrease**) the learning rate.\n",
    "\n",
    "2. Gradient descent (guarantee/ **does not guarantee**) global minimum.\n",
    "\n",
    "3. Newton's Methods (guarantee/**does not guarantee**) convergence.\n",
    "\n",
    "4. Monte Carlo integration convergence (**does**/does not) depend on the number of dimension.\n",
    "\n",
    "5. Hill Climbing method (guarantee/ **does not guarantee**) global minimum."
   ]
  },
  {
   "cell_type": "markdown",
   "metadata": {},
   "source": [
    "## Problem 2:\n",
    "    \n",
    "### 2.1 (50)\n",
    "Find solutions to the following system of equation using Newton's method.\n",
    "$$\n",
    "x + \\sin(y) = 1 \\\\\n",
    "y^2 + \\sin(x) = 2\n",
    "$$\n",
    "\n",
    "Find both solutions. There are two."
   ]
  },
  {
   "cell_type": "code",
   "execution_count": 4,
   "metadata": {
    "scrolled": true
   },
   "outputs": [
    {
     "name": "stdout",
     "output_type": "stream",
     "text": [
      "-1.0194234220493739\n",
      "1.851806119060182\n"
     ]
    }
   ],
   "source": [
    "#x = 1-sin(y)\n",
    "#y^2 + sin(1-sin(y)) = 2\n",
    "#2-y^2-sin(1-sin(y)) = 0\n",
    "\n",
    "def newton(f, start, n):\n",
    "    guess = start\n",
    "    h = 0.001\n",
    "    for i in range(n):\n",
    "        fp = (f(guess+h) - f(guess-h))/(2*h)\n",
    "        guess = guess - f(guess)/fp\n",
    "    return guess\n",
    "\n",
    "def f(y):\n",
    "    return 2-y**2-np.sin(1-np.sin(y))\n",
    "\n",
    "#get y value sub into 1st eq x+sin(y) = 1\n",
    "#1-x-sin(y) = 0\n",
    "def func(x):\n",
    "    a = newton(f,0,10000)\n",
    "    return 1-x-np.sin(a)\n",
    "print(newton(f, 0, 1000))\n",
    "print(newton(func, 0, 1000))"
   ]
  },
  {
   "cell_type": "markdown",
   "metadata": {},
   "source": [
    "### 2.2(50)\n",
    "    \n",
    "$$\n",
    "\\int_C \\sin(x^2)\\cos(y^2) \\;\\text{d}A\n",
    "$$\n",
    "\n",
    "where C is the region defined by **circle of radius 1 centered at $x=1, y=2$**"
   ]
  },
  {
   "cell_type": "code",
   "execution_count": 17,
   "metadata": {},
   "outputs": [
    {
     "name": "stdout",
     "output_type": "stream",
     "text": [
      "0.2775173579275668\n"
     ]
    }
   ],
   "source": [
    "def f(x,y):\n",
    "    return np.sin(x**2)*np.cos(y**2)\n",
    "s = 0\n",
    "n = 10000\n",
    "for i in range(n):\n",
    "    x = np.random.rand()*2-1\n",
    "    y = np.random.rand()*2-1\n",
    "    s += f(x,y)\n",
    "print(s/n)"
   ]
  },
  {
   "cell_type": "markdown",
   "metadata": {},
   "source": [
    "## Problem 3\n",
    "\n",
    "We believe that the data be written as\n",
    "\n",
    "$$y = A \\exp(\\frac{-(x-\\mu)^2}{\\sigma^2}) + Bx + C$$\n",
    "\n",
    "Find $A, B, C, \\mu$ and $\\sigma$ which gives you the best fit.\n",
    "\n",
    "Be careful with starting parameter."
   ]
  },
  {
   "cell_type": "code",
   "execution_count": 20,
   "metadata": {
    "ExecuteTime": {
     "end_time": "2020-03-22T17:46:37.341188Z",
     "start_time": "2020-03-22T17:46:37.300664Z"
    }
   },
   "outputs": [],
   "source": [
    "p3_xs = np.array([-5.        , -4.79591837, -4.59183673, -4.3877551 , -4.18367347,\n",
    "       -3.97959184, -3.7755102 , -3.57142857, -3.36734694, -3.16326531,\n",
    "       -2.95918367, -2.75510204, -2.55102041, -2.34693878, -2.14285714,\n",
    "       -1.93877551, -1.73469388, -1.53061224, -1.32653061, -1.12244898,\n",
    "       -0.91836735, -0.71428571, -0.51020408, -0.30612245, -0.10204082,\n",
    "        0.10204082,  0.30612245,  0.51020408,  0.71428571,  0.91836735,\n",
    "        1.12244898,  1.32653061,  1.53061224,  1.73469388,  1.93877551,\n",
    "        2.14285714,  2.34693878,  2.55102041,  2.75510204,  2.95918367,\n",
    "        3.16326531,  3.36734694,  3.57142857,  3.7755102 ,  3.97959184,\n",
    "        4.18367347,  4.3877551 ,  4.59183673,  4.79591837,  5.        ])\n",
    "p3_ys = np.array([-3.68772107, -3.67941398, -3.1462531 , -2.95653641, -3.10147411,\n",
    "       -2.91346186, -2.88410695, -2.71646963, -2.49963456, -2.50369043,\n",
    "       -2.25090053, -2.56505422, -2.13260531, -2.27992346, -2.14562936,\n",
    "       -2.12596261, -1.35278898, -1.71622788, -1.57028003, -1.65361591,\n",
    "       -0.9234219 , -0.88144526, -0.77234316, -1.03093821, -0.54947754,\n",
    "        0.50733427, -0.00471332,  0.4976489 ,  1.51112504,  1.7035049 ,\n",
    "        2.06354253,  3.08385693,  2.51778002,  2.63658336,  3.18624835,\n",
    "        2.54578237,  2.33866124,  2.31325498,  2.29221991,  1.59749764,\n",
    "        1.83940422,  1.2050842 ,  1.20128484,  1.50524725,  1.34539803,\n",
    "        0.98641652,  1.24856525,  1.15139335,  1.47977891,  1.4729804 ])"
   ]
  },
  {
   "cell_type": "code",
   "execution_count": 21,
   "metadata": {
    "ExecuteTime": {
     "end_time": "2020-03-22T17:46:49.344882Z",
     "start_time": "2020-03-22T17:46:48.955365Z"
    }
   },
   "outputs": [
    {
     "data": {
      "text/plain": [
       "[<matplotlib.lines.Line2D at 0x1197bee10>]"
      ]
     },
     "execution_count": 21,
     "metadata": {},
     "output_type": "execute_result"
    },
    {
     "data": {
      "image/png": "[encoded data removed]",
      "text/plain": [
       "<Figure size 432x288 with 1 Axes>"
      ]
     },
     "metadata": {
      "needs_background": "light"
     },
     "output_type": "display_data"
    }
   ],
   "source": [
    "plt.plot(p3_xs, p3_ys, '.')"
   ]
  },
  {
   "cell_type": "code",
   "execution_count": 25,
   "metadata": {},
   "outputs": [
    {
     "name": "stdout",
     "output_type": "stream",
     "text": [
      "0.6359673944310823 -0.23626992740000005\n"
     ]
    },
    {
     "data": {
      "text/plain": [
       "[<matplotlib.lines.Line2D at 0x119a2c210>]"
      ]
     },
     "execution_count": 25,
     "metadata": {},
     "output_type": "execute_result"
    },
    {
     "data": {
      "image/png": "[encoded data removed]",
      "text/plain": [
       "<Figure size 432x288 with 1 Axes>"
      ]
     },
     "metadata": {
      "needs_background": "light"
     },
     "output_type": "display_data"
    }
   ],
   "source": [
    "def s(nx, ny):\n",
    "    return np.sum(p3_xs**nx*p3_ys**ny)\n",
    "A = np.array([\n",
    "    [s(2,0), s(1,0)],\n",
    "    [s(1,0), s(0,0)]\n",
    "])\n",
    "B = np.array([s(1,1), s(0,1)])\n",
    "\n",
    "a, b = np.linalg.solve(A, B)\n",
    "\n",
    "print(a, b)\n",
    "\n",
    "plt.plot(p3_xs, p3_ys, '.')\n",
    "xs = np.linspace(-4,4,100)\n",
    "ys = a*xs + b\n",
    "plt.plot(xs, ys, 'r')"
   ]
  },
  {
   "cell_type": "markdown",
   "metadata": {},
   "source": [
    "## Problem 4: Simulation (100)\n",
    "\n",
    "Consider a game where the player toss 5 dices at a time. Each turn his score is the maximum of the 5 dices. For example, if the 5 dices are [3,5,2,1,5] then his score is 5."
   ]
  },
  {
   "cell_type": "markdown",
   "metadata": {},
   "source": [
    "1) Find the probabality that his score is below or equal 3."
   ]
  },
  {
   "cell_type": "markdown",
   "metadata": {},
   "source": [
    "$\\frac{56}{7776}$ I don't know how to do so I count all the possible way to do it."
   ]
  },
  {
   "cell_type": "markdown",
   "metadata": {},
   "source": [
    "2) What is the expected value of his score?"
   ]
  },
  {
   "cell_type": "markdown",
   "metadata": {},
   "source": [
    "17.5"
   ]
  },
  {
   "cell_type": "markdown",
   "metadata": {},
   "source": [
    "### Problem 5: Hill Climbing(100)"
   ]
  },
  {
   "cell_type": "markdown",
   "metadata": {},
   "source": [
    "Food delivery service is now quite popular given social distancing adopted by many countries. Let's us try to solve lunch time problem for a Juni's Kitchen: a startup company delivering lunch to people.\n",
    "\n",
    "Juni's Kitchen has a **centralized** kitchen where they cook all the food at **(0,0)**. The delivery motocycles need to pick up the food from this centralized location and travel to each customer house to deliver lunch.\n",
    "\n",
    "**The company only have 6 motorcycle**. It is very economical that each motorcycle pick up **all** the lunch that each motorcycle needs to deliver. Then deliver them. This way the motorcycle doesn't have to waste gas coming back to the central location to pick up food.\n",
    "\n",
    "Consider a lunch day where there are **60 deliveries to be made**. The job is spread out evenly so that each motorcycle needs to make **10 deliveries each**. The location of each delivery is given(xs, ys) list in the list below.\n",
    "\n",
    "Since Juni company is a startup. They try very best to save on money. The cost of delivery is proportional to the total distance$\\sqrt{\\Delta x^2 + \\Delta y^2}$ the motorcycles traveling\n",
    "    \n",
    "    - from the kitchen center to the first location\n",
    "    - from delivery location to delivery location\n",
    "    - from the final delivery location back to the kitchen center\n",
    "    \n",
    "Find and plot a path for the 6 motorcycles that save Juni's money. **I'm not looking for the global minimum just a decent path is enough**. (I accept anything below 300)\n",
    "\n",
    "**Note**\n",
    "\n",
    "If you have nothing better to do, in the real world application, spreading out the job to 10delivery/motorcycle is a not a very good constraint. The better contsraint would be to limit the delivery for each motorcycle to 20 delivery max/motorcycle(each motorcycle will get different amount of job)"
   ]
  },
  {
   "cell_type": "code",
   "execution_count": 26,
   "metadata": {
    "ExecuteTime": {
     "end_time": "2020-03-22T19:09:30.938216Z",
     "start_time": "2020-03-22T19:09:30.502672Z"
    }
   },
   "outputs": [
    {
     "name": "stdout",
     "output_type": "stream",
     "text": [
      "[ -5.42815302   4.98672723   1.41489249  -7.53147357  -2.89300126\n",
      "   8.25718269 -12.13339622  -2.14456314   6.32968129  -4.33370201\n",
      "  -3.39443076  -0.47354484   7.45694813  -3.19450998  -2.2199098\n",
      "  -2.17175638  11.02965041  10.93393044   5.02026949   1.930932\n",
      "   3.68684288   7.45366014  -4.67916934   5.87914522  -6.26940334\n",
      "  -3.18875751   4.53552598  -7.1434035   -0.7003436   -4.30877448\n",
      "  -1.27809685 -13.99294553  -8.85766552  -3.49938617   4.63731216\n",
      "  -0.86817841   0.01422958   3.44111356  -4.39768172   1.41813662\n",
      "  -4.02683259  -8.63834747  -1.95449897   2.86902931   1.69294525\n",
      "  -0.05915247  11.96182633   2.0645608    4.89368003  11.19071669\n",
      "  -6.47042662  -5.19394105   8.71856113  -3.99031368   0.14841615\n",
      "   5.34657985   4.45353196   8.77443091   7.47822069   5.34696335]\n",
      "[ -3.86354357   3.97431334   1.57135997  -6.6313273    7.08649523\n",
      "   4.03618267   0.2274504   -1.1654603   -5.99150572   0.99762037\n",
      "   2.3421956   -4.15577492   5.81102025  -5.48601523 -10.61550175\n",
      "   5.19863545  -2.01683019  -0.63014793  -4.18758361  -8.0298138\n",
      "   6.27618687  -3.44434492   8.30476244   4.03654093  -1.57379073\n",
      "  -5.42951201  -3.66230993  -6.06261566  10.4355668    0.82220615\n",
      "   5.75102771  -6.33676025   0.90517565   5.88930969  -1.67505381\n",
      "   5.15557229  -5.42283956  -6.81735772   1.89700306  -1.89588217\n",
      "   3.21027345  -9.88943966   3.56132318  12.99151964  -0.12312991\n",
      "   0.17071064   0.89774742  -9.30987855   2.1307332   -8.02704872\n",
      "  -2.13839799   6.21434775  -3.67608478   2.50624495   5.06369527\n",
      "   1.39370428  -6.85474235  -1.66237638   9.79705671 -10.12522881]\n"
     ]
    },
    {
     "data": {
      "image/png": "[encoded data removed]",
      "text/plain": [
       "<Figure size 432x288 with 1 Axes>"
      ]
     },
     "metadata": {
      "needs_background": "light"
     },
     "output_type": "display_data"
    }
   ],
   "source": [
    "np.random.seed(123)\n",
    "xs = np.random.randn(60)*5\n",
    "ys = np.random.randn(60)*5\n",
    "plt.plot(xs, ys, '.r') # These people are hungry\n",
    "plt.plot(0,0, 'ob') # The kitchen center\n",
    "print(xs)\n",
    "print(ys)\n",
    "def distanceTravel(x,y):\n",
    "    return "
   ]
  },
  {
   "cell_type": "code",
   "execution_count": 48,
   "metadata": {},
   "outputs": [
    {
     "name": "stdout",
     "output_type": "stream",
     "text": [
      "(117.35335432313713, [191, 179])\n"
     ]
    },
    {
     "name": "stderr",
     "output_type": "stream",
     "text": [
      "/usr/local/lib/python3.7/site-packages/ipykernel_launcher.py:4: RuntimeWarning: invalid value encountered in sqrt\n",
      "  after removing the cwd from sys.path.\n"
     ]
    },
    {
     "data": {
      "text/plain": [
       "[<matplotlib.lines.Line2D at 0x119a7f8d0>]"
      ]
     },
     "execution_count": 48,
     "metadata": {},
     "output_type": "execute_result"
    },
    {
     "data": {
      "image/png": "[encoded data removed]",
      "text/plain": [
       "<Figure size 432x288 with 1 Axes>"
      ]
     },
     "metadata": {
      "needs_background": "light"
     },
     "output_type": "display_data"
    }
   ],
   "source": [
    "#Can I have some points for this\n",
    "def distance(x1,y1, x2,y2):\n",
    "    sum = 0\n",
    "    sum += (np.sqrt(x2-x1)**2 + (y2-y1)**2)\n",
    "    return sum\n",
    "def distance2(r):\n",
    "    x1,y1 = r[0]\n",
    "    x2,y2 = r[1]\n",
    "    return distance(x1,y1, x2,y2)\n",
    "np.random.seed(123)\n",
    "xs = np.random.randn(60)*5\n",
    "ys = np.random.randn(60)*5\n",
    "def rand_idx():\n",
    "    return np.random.randint(500)\n",
    "def largest_triangle(niter):\n",
    "    sum = 0\n",
    "    counter = 0\n",
    "    dis_idx = [rand_idx() for i in range(2)]\n",
    "    distance = distance2([(x[i], y[i]) for i in dis_idx])\n",
    "    sum+=distance\n",
    "    for i in range(niter):\n",
    "        temp = dis_idx.copy()\n",
    "        new_i = np.random.randint(2)      \n",
    "        temp[new_i] = rand_idx()\n",
    "        temp_xy = [(x[i], y[i]) for i in temp]\n",
    "        if distance2(temp_xy) > distance:\n",
    "            dis_idx, distance = temp, distance2(temp_xy)\n",
    "    return distance, dis_idx\n",
    "tri = largest_triangle(10000)\n",
    "print(tri)\n",
    "\n",
    "plt.plot([x[i] for i in tri[1]], [y[i] for i in tri[1]], 'ob')"
   ]
  },
  {
   "cell_type": "code",
   "execution_count": null,
   "metadata": {},
   "outputs": [],
   "source": []
  }
 ],
 "metadata": {
  "hide_input": false,
  "kernelspec": {
   "display_name": "Python 3",
   "language": "python",
   "name": "python3"
  },
  "language_info": {
   "codemirror_mode": {
    "name": "ipython",
    "version": 3
   },
   "file_extension": ".py",
   "mimetype": "text/x-python",
   "name": "python",
   "nbconvert_exporter": "python",
   "pygments_lexer": "ipython3",
   "version": "3.7.6"
  },
  "toc": {
   "colors": {
    "hover_highlight": "#DAA520",
    "running_highlight": "#FF0000",
    "selected_highlight": "#FFD700"
   },
   "moveMenuLeft": true,
   "nav_menu": {
    "height": "120px",
    "width": "252px"
   },
   "navigate_menu": true,
   "number_sections": false,
   "sideBar": true,
   "threshold": 4,
   "toc_cell": false,
   "toc_section_display": "block",
   "toc_window_display": false
  }
 },
 "nbformat": 4,
 "nbformat_minor": 2
}
