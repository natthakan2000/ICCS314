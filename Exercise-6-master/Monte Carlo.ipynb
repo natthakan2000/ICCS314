{
 "cells": [
  {
   "cell_type": "markdown",
   "metadata": {},
   "source": [
    "## Pseudo Random Number Generator\n",
    "\n",
    "Let us learn about how to generate a random number."
   ]
  },
  {
   "cell_type": "code",
   "execution_count": 17,
   "metadata": {},
   "outputs": [],
   "source": [
    "%matplotlib inline\n",
    "from matplotlib import pyplot as plt\n",
    "import numpy as np\n",
    "import math"
   ]
  },
  {
   "cell_type": "markdown",
   "metadata": {},
   "source": [
    "#### 1) Linear Congruent\n",
    "One of the easiest way to make random number is using linear congruential.\n",
    "\n",
    "$$x_{n+1} = a x_{n} + b \\mod k$$\n",
    "\n",
    "pick a random $a$ and $b$ then try."
   ]
  },
  {
   "cell_type": "markdown",
   "metadata": {},
   "source": [
    "#### 2) Cycle Problem\n",
    "\n",
    "One of the problem with linear congruent is short cycle length. For example,\n",
    "\n",
    "$$x_{n+1} =  ax_{n} + b \\mod 11$$\n",
    "\n",
    "No matter what value you give $a$ and $b$. Your cycle length will be at most 11."
   ]
  },
  {
   "cell_type": "code",
   "execution_count": null,
   "metadata": {
    "collapsed": true
   },
   "outputs": [],
   "source": []
  },
  {
   "cell_type": "markdown",
   "metadata": {},
   "source": [
    "#### 3) Fixing Cycle problem\n",
    "\n",
    "One way to do it is to generate it with a better cycle and then mod 11."
   ]
  },
  {
   "cell_type": "code",
   "execution_count": null,
   "metadata": {
    "collapsed": true
   },
   "outputs": [],
   "source": []
  },
  {
   "cell_type": "markdown",
   "metadata": {},
   "source": [
    "#### 4) Some available random number from numpy/python\n",
    "\n",
    "`np.random.random` for random a float uniformly between 0 and 1.\n",
    "\n",
    "`np.random.randint` for random integer uniformly in some range.\n",
    "\n",
    "`np.random.randn` for random float from normal distribution with mean 0 and standard deviation 1."
   ]
  },
  {
   "cell_type": "code",
   "execution_count": null,
   "metadata": {},
   "outputs": [],
   "source": []
  },
  {
   "cell_type": "markdown",
   "metadata": {},
   "source": [
    "#### 5) Manipulating random number to get desired behavior.\n",
    "\n",
    "Random a float from 0 to 5.\n",
    "\n",
    "Random a float from -1 to 1.\n",
    "\n",
    "Random a float form normal distribution with mean 5 and std dev 1.\n",
    "\n",
    "Random a float form normal distribution with mean 2 and std dev 10."
   ]
  },
  {
   "cell_type": "code",
   "execution_count": null,
   "metadata": {},
   "outputs": [],
   "source": []
  },
  {
   "cell_type": "markdown",
   "metadata": {},
   "source": [
    "6) What does np.random.seed do?"
   ]
  },
  {
   "cell_type": "code",
   "execution_count": null,
   "metadata": {},
   "outputs": [],
   "source": []
  },
  {
   "cell_type": "markdown",
   "metadata": {},
   "source": [
    "### Monte Carlo Integration"
   ]
  },
  {
   "cell_type": "markdown",
   "metadata": {},
   "source": [
    "#### 1) Let integrate\n",
    "$$ \\iiint \\limits_{C} x^2(y-1)^2(z-2)^2\\exp(xyz) \\; dx \\; dy \\; dz$$\n",
    "Over a cube $x \\in [-1,1], y\\in [-1,1], z\\in [-1,1]$"
   ]
  },
  {
   "cell_type": "code",
   "execution_count": null,
   "metadata": {},
   "outputs": [],
   "source": []
  },
  {
   "cell_type": "markdown",
   "metadata": {},
   "source": [
    "#### 2) Evaluate\n",
    "$$ \\iiint \\limits_{C} x^2(y-1)^2(z-2)^2\\exp(xyz) \\; dx \\; dy \\; dz$$\n",
    "Over a sphere of radius 1 centered at the origin."
   ]
  },
  {
   "cell_type": "code",
   "execution_count": null,
   "metadata": {},
   "outputs": [],
   "source": []
  },
  {
   "cell_type": "markdown",
   "metadata": {},
   "source": [
    "3) Do we guarantee to get the same answer when we repeat the experiment?"
   ]
  },
  {
   "cell_type": "code",
   "execution_count": null,
   "metadata": {
    "collapsed": true
   },
   "outputs": [],
   "source": []
  },
  {
   "cell_type": "markdown",
   "metadata": {},
   "source": [
    "4) What do we need to do to guarantee the same answer?"
   ]
  },
  {
   "cell_type": "code",
   "execution_count": null,
   "metadata": {},
   "outputs": [],
   "source": []
  },
  {
   "cell_type": "markdown",
   "metadata": {},
   "source": [
    "5) How do we defind the convergence and how fast is the convergence for monte carlo integration?"
   ]
  },
  {
   "cell_type": "code",
   "execution_count": null,
   "metadata": {
    "collapsed": true
   },
   "outputs": [],
   "source": []
  },
  {
   "cell_type": "markdown",
   "metadata": {},
   "source": [
    "## Monte Carlo Simulations"
   ]
  },
  {
   "cell_type": "markdown",
   "metadata": {},
   "source": [
    "### Loaded Die.\n",
    "\n",
    "<table>\n",
    "<tr style=\"text-align:center\">\n",
    "    <td>Number</td>\n",
    "    <td>1</td>\n",
    "    <td>2</td>\n",
    "    <td>3</td>\n",
    "    <td>4</td>\n",
    "    <td>5</td>\n",
    "    <td>6</td>\n",
    "</tr>\n",
    "<tr style=\"text-align:center\">\n",
    "    <td>Probability</td>\n",
    "    <td>0.3</td>\n",
    "    <td>0.2</td>\n",
    "    <td>0.1</td>\n",
    "    <td>0.2</td>\n",
    "    <td>0.1</td>\n",
    "    <td>0.1</td>\n",
    "</tr>\n",
    "</table>"
   ]
  },
  {
   "cell_type": "markdown",
   "metadata": {},
   "source": [
    "#### 1) Simulating the dice.\n",
    "\n",
    "Simulate the dice result such that it has the given probability distribution."
   ]
  },
  {
   "cell_type": "code",
   "execution_count": null,
   "metadata": {},
   "outputs": [],
   "source": []
  },
  {
   "cell_type": "markdown",
   "metadata": {},
   "source": [
    "#### 2) Expected Value.\n",
    "\n",
    "What is the expected value of dice result? Try both simulation and analytical formula."
   ]
  },
  {
   "cell_type": "code",
   "execution_count": null,
   "metadata": {},
   "outputs": [],
   "source": []
  },
  {
   "cell_type": "markdown",
   "metadata": {},
   "source": [
    "3) What is the expected value of $A+B$ where $A$ is the result of the first dice and $B$ is the result of the second dice? Use simulation and compare with analytic answer."
   ]
  },
  {
   "cell_type": "code",
   "execution_count": null,
   "metadata": {},
   "outputs": [],
   "source": []
  },
  {
   "cell_type": "markdown",
   "metadata": {},
   "source": [
    "4) What is the expected value of $AB$?"
   ]
  },
  {
   "cell_type": "code",
   "execution_count": null,
   "metadata": {},
   "outputs": [],
   "source": []
  },
  {
   "cell_type": "markdown",
   "metadata": {},
   "source": [
    "5) Try the experiment 10,000 times and plot out the probability of getting each result for $AB$. (Probability is given by #of times we get the number/total number of experiment."
   ]
  },
  {
   "cell_type": "code",
   "execution_count": null,
   "metadata": {},
   "outputs": [],
   "source": []
  },
  {
   "cell_type": "markdown",
   "metadata": {},
   "source": [
    "6) Now we play the games of two people. We take the product of the two dice. Whoever get more number wins. What is the probability of getting a draw."
   ]
  },
  {
   "cell_type": "code",
   "execution_count": null,
   "metadata": {},
   "outputs": [],
   "source": []
  },
  {
   "cell_type": "markdown",
   "metadata": {},
   "source": [
    "7) A little bit harder: consider the game of product dice. If our first dice is 3, what is the probability of winning?"
   ]
  },
  {
   "cell_type": "code",
   "execution_count": null,
   "metadata": {},
   "outputs": [],
   "source": []
  },
  {
   "cell_type": "markdown",
   "metadata": {},
   "source": [
    "### Geometric Brownian Motion.\n",
    "\n",
    "One popular way to simulate stock is using geometric brownian motion. Stockprice at $t+dt$ is related to the stock price at time $t$ by\n",
    "\n",
    "$$s(t+dt) = s(t) + s(t)(\\mu dt + \\epsilon\\sigma \\sqrt{dt}) $$\n",
    "\n",
    "where\n",
    "1. $\\mu$ is the mean rate of return. Typically quote as $\\%$ per year.\n",
    "2. $\\epsilon$ is a normally distributed random variable with mean 0 and variance of 1.\n",
    "3. $\\sigma$ is called volatility. It typically quoted as $\\%$ per $\\sqrt{\\text{year}}$. It represent how wildly stock can go.\n",
    "\n",
    "To use this formula, we need to make sure the unit for $t$ is correct. Normally just convert it to year\n",
    "\n",
    "All these number can be looked up from the internet (you can calculate one yourself from historical data too). \n",
    "\n",
    "Here is one example: google for aapl volatility.\n",
    "\n",
    "The funny unit of $\\sqrt{t}$ has to do with scaling behavior. You can read it in the lecture notes."
   ]
  },
  {
   "cell_type": "markdown",
   "metadata": {},
   "source": [
    "1) Given the volatility($\\sigma$) of $28\\%$ per $\\sqrt{\\text{year}}$ and mean rate of return $8.77\\%$. The stock today is 119.21$. Write a function to generate the price for tomorrow given the price today."
   ]
  },
  {
   "cell_type": "code",
   "execution_count": null,
   "metadata": {},
   "outputs": [],
   "source": []
  },
  {
   "cell_type": "markdown",
   "metadata": {},
   "source": [
    "2) Generate the price for 1 trading year(all the time we said year it actually means trading year). Have dt = 1 day. 1 Trading year is actually 252 day."
   ]
  },
  {
   "cell_type": "code",
   "execution_count": null,
   "metadata": {},
   "outputs": [],
   "source": []
  },
  {
   "cell_type": "markdown",
   "metadata": {},
   "source": [
    "3) What is the expected value of the stock at the end of year?"
   ]
  },
  {
   "cell_type": "code",
   "execution_count": null,
   "metadata": {},
   "outputs": [],
   "source": []
  },
  {
   "cell_type": "markdown",
   "metadata": {},
   "source": [
    "4) What is the variance of the stock at the end of the year?"
   ]
  },
  {
   "cell_type": "code",
   "execution_count": null,
   "metadata": {
    "collapsed": true
   },
   "outputs": [],
   "source": []
  },
  {
   "cell_type": "markdown",
   "metadata": {},
   "source": [
    "5) What is the probability that the price of the stock will dip below 70 at anytime of the year?"
   ]
  },
  {
   "cell_type": "code",
   "execution_count": null,
   "metadata": {},
   "outputs": [],
   "source": []
  },
  {
   "cell_type": "markdown",
   "metadata": {},
   "source": [
    "6) What is the proabability that th stock will dip below 100 and come back to 110 within a year? "
   ]
  },
  {
   "cell_type": "code",
   "execution_count": null,
   "metadata": {},
   "outputs": [],
   "source": []
  },
  {
   "cell_type": "markdown",
   "metadata": {},
   "source": [
    "7) If we buy the stock today at 119.21 dollar and our stragy is that we would sell if the stock fall more than 5 dollar or go up more than 10 dollar.\n",
    "\n",
    "7.1) What is the probability that we get to sell it?\n",
    "\n",
    "7.2) If we get to sell it what's the probability of making profit."
   ]
  },
  {
   "cell_type": "code",
   "execution_count": null,
   "metadata": {},
   "outputs": [],
   "source": []
  }
 ],
 "metadata": {
  "kernelspec": {
   "display_name": "Python 3",
   "language": "python",
   "name": "python3"
  },
  "language_info": {
   "codemirror_mode": {
    "name": "ipython",
    "version": 3
   },
   "file_extension": ".py",
   "mimetype": "text/x-python",
   "name": "python",
   "nbconvert_exporter": "python",
   "pygments_lexer": "ipython3",
   "version": "3.7.0"
  },
  "toc": {
   "colors": {
    "hover_highlight": "#DAA520",
    "running_highlight": "#FF0000",
    "selected_highlight": "#FFD700"
   },
   "moveMenuLeft": true,
   "nav_menu": {
    "height": "341px",
    "width": "252px"
   },
   "navigate_menu": true,
   "number_sections": false,
   "sideBar": true,
   "threshold": 4,
   "toc_cell": false,
   "toc_section_display": "block",
   "toc_window_display": false
  }
 },
 "nbformat": 4,
 "nbformat_minor": 1
}
