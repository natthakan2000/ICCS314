{
 "cells": [
  {
   "cell_type": "markdown",
   "metadata": {},
   "source": [
    "### Exercise 6"
   ]
  },
  {
   "cell_type": "code",
   "execution_count": null,
   "metadata": {},
   "outputs": [],
   "source": [
    "%matplotlib inline\n",
    "#%matplotlib osx\n",
    "from matplotlib import pyplot as plt\n",
    "import numpy as np\n",
    "import math"
   ]
  },
  {
   "cell_type": "markdown",
   "metadata": {},
   "source": [
    "### System of Non-Linear Equations.\n",
    "\n",
    "Consider\n",
    "$$x^2 + xy = 10$$\n",
    "$$y + 3 xy^2 = 57$$"
   ]
  },
  {
   "cell_type": "markdown",
   "metadata": {},
   "source": [
    "1) Write it in the form of\n",
    "$$u(x,y) = 0$$\n",
    "$$v(x,y) = 0$$"
   ]
  },
  {
   "cell_type": "code",
   "execution_count": null,
   "metadata": {},
   "outputs": [],
   "source": []
  },
  {
   "cell_type": "markdown",
   "metadata": {},
   "source": [
    "2) Let us visualize it by making 3d plot. Despite looking really cool it doesn't tell much."
   ]
  },
  {
   "cell_type": "code",
   "execution_count": null,
   "metadata": {},
   "outputs": [],
   "source": [
    "from mpl_toolkits.mplot3d import Axes3D\n",
    "from matplotlib import cm\n",
    "#see matplotlib3d surface\n",
    "nx = 200\n",
    "ny = 200\n",
    "x = np.linspace(-20,20,nx)\n",
    "y = np.linspace(-20,20,ny)\n",
    "xgrid, ygrid = np.meshgrid(x, y)\n",
    "#print ygrid\n",
    "uz = np.zeros((nx,ny))\n",
    "vz = np.zeros((nx,ny))\n",
    "for ix in range(nx):\n",
    "    for iy in range(ny):\n",
    "        xx = x[ix]\n",
    "        yy = y[iy]\n",
    "        uz[iy,ix] = u(xx,yy) ##<<<<<<This is not a typo: [iy,ix]\n",
    "        vz[iy,ix] = v(xx,yy) ##<<<<<<And this too.   \n",
    "\n",
    "fig = plt.figure()\n",
    "ax = fig.add_subplot(111, projection='3d')\n",
    "ucs = ax.plot_surface(xgrid, ygrid, uz, cmap=cm.coolwarm)\n",
    "plt.title('u(x,y)')\n",
    "\n",
    "fig = plt.figure()\n",
    "ax = fig.add_subplot(111, projection='3d')        \n",
    "ucs = ax.plot_surface(xgrid, ygrid, vz, cmap=cm.coolwarm)\n",
    "plt.title('v(x,y)')"
   ]
  },
  {
   "cell_type": "markdown",
   "metadata": {},
   "source": [
    "3) Contour plot."
   ]
  },
  {
   "cell_type": "code",
   "execution_count": null,
   "metadata": {
    "scrolled": false
   },
   "outputs": [],
   "source": [
    "#see http://matplotlib.org/examples/pylab_examples/contour_demo.html\n",
    "nx = 100\n",
    "ny = 100\n",
    "x = np.linspace(-20,20,nx)\n",
    "y = np.linspace(-20,20,ny)\n",
    "xgrid, ygrid = np.meshgrid(x, y)\n",
    "#print ygrid\n",
    "uz = np.zeros((nx,ny))\n",
    "vz = np.zeros((nx,ny))\n",
    "for ix in range(nx):\n",
    "    for iy in range(ny):\n",
    "        xx = x[ix]\n",
    "        yy = y[iy]\n",
    "        uz[iy,ix] = u(xx,yy) ##<<<<<<This is not a typo: [iy,ix]\n",
    "        vz[iy,ix] = v(xx,yy)\n",
    " \n",
    "\n",
    "ucs = plt.contour(x, y, uz, colors=('b','r','g'))\n",
    "plt.clabel(ucs, inline=1, fontsize=10)\n",
    "plt.grid()\n",
    "plt.title('u(x,y)')\n",
    "\n",
    "plt.figure()\n",
    "vcs = plt.contour(x, y, vz, colors=('b','r','g'))\n",
    "plt.clabel(vcs, inline=1, fontsize=10,)\n",
    "plt.title('v(x,y)')\n",
    "plt.grid()"
   ]
  },
  {
   "cell_type": "markdown",
   "metadata": {},
   "source": [
    "3) Which lines are we interested in?"
   ]
  },
  {
   "cell_type": "code",
   "execution_count": null,
   "metadata": {},
   "outputs": [],
   "source": []
  },
  {
   "cell_type": "markdown",
   "metadata": {},
   "source": [
    "4)Let's overlay them on top of each other."
   ]
  },
  {
   "cell_type": "code",
   "execution_count": null,
   "metadata": {},
   "outputs": [],
   "source": [
    "#see http://matplotlib.org/examples/pylab_examples/contour_demo.html\n",
    "nx = 200\n",
    "ny = 200\n",
    "x = np.linspace(-20,20,nx)\n",
    "y = np.linspace(-20,20,ny)\n",
    "xgrid, ygrid = np.meshgrid(x, y)\n",
    "#print ygrid\n",
    "uz = np.zeros((nx,ny))\n",
    "vz = np.zeros((nx,ny))\n",
    "for ix in range(nx):\n",
    "    for iy in range(ny):\n",
    "        xx = x[ix]\n",
    "        yy = y[iy]\n",
    "        uz[iy,ix] = u(xx,yy) ##<<<<<<This is not a typo: [iy,ix]\n",
    "        vz[iy,ix] = v(xx,yy)\n",
    "\n",
    "\n",
    "ucs = plt.contour(x, y, uz, colors=('r'))\n",
    "plt.clabel(ucs, inline=1, fontsize=10)\n",
    "vcs = plt.contour(x, y, vz, colors=('b'))\n",
    "plt.clabel(vcs, inline=1, fontsize=10)\n",
    "plt.grid()"
   ]
  },
  {
   "cell_type": "markdown",
   "metadata": {},
   "source": [
    "5) Where (approximately) are the solutions to $u(x,y)=0$ and $v(x,y)=0$"
   ]
  },
  {
   "cell_type": "code",
   "execution_count": null,
   "metadata": {},
   "outputs": [],
   "source": []
  },
  {
   "cell_type": "markdown",
   "metadata": {
    "collapsed": true
   },
   "source": [
    "### Newton's Method (>1D)"
   ]
  },
  {
   "cell_type": "markdown",
   "metadata": {},
   "source": [
    "1) What matrix equation you need to solve to find the next guess ($x_{n+1}, y_{n+1}$)?"
   ]
  },
  {
   "cell_type": "code",
   "execution_count": null,
   "metadata": {},
   "outputs": [],
   "source": []
  },
  {
   "cell_type": "markdown",
   "metadata": {},
   "source": [
    "2)Where should you start your guess ($x_0, y_0$)?"
   ]
  },
  {
   "cell_type": "code",
   "execution_count": null,
   "metadata": {},
   "outputs": [],
   "source": []
  },
  {
   "cell_type": "markdown",
   "metadata": {},
   "source": [
    "3) Find ($x_1, y_1$)"
   ]
  },
  {
   "cell_type": "code",
   "execution_count": null,
   "metadata": {},
   "outputs": [],
   "source": []
  },
  {
   "cell_type": "markdown",
   "metadata": {},
   "source": [
    "4)Find ($x_2, y_2$)"
   ]
  },
  {
   "cell_type": "code",
   "execution_count": null,
   "metadata": {},
   "outputs": [],
   "source": []
  },
  {
   "cell_type": "markdown",
   "metadata": {},
   "source": [
    "5)Write a program to do what you just did and find  $(x_5, y_5)$? Plot to verify. (Just add plt.plot([x],[y])). You may use np.linalg.solve."
   ]
  },
  {
   "cell_type": "code",
   "execution_count": null,
   "metadata": {},
   "outputs": [],
   "source": []
  },
  {
   "cell_type": "markdown",
   "metadata": {},
   "source": [
    "6) Find the other solution."
   ]
  },
  {
   "cell_type": "code",
   "execution_count": null,
   "metadata": {},
   "outputs": [],
   "source": []
  },
  {
   "cell_type": "markdown",
   "metadata": {},
   "source": [
    "7) Does it guarantee to converge to the right answer?"
   ]
  },
  {
   "cell_type": "code",
   "execution_count": null,
   "metadata": {},
   "outputs": [],
   "source": []
  },
  {
   "cell_type": "markdown",
   "metadata": {},
   "source": [
    "8) Implement np.linalg.solve using gaussian elimination."
   ]
  },
  {
   "cell_type": "code",
   "execution_count": null,
   "metadata": {},
   "outputs": [],
   "source": []
  }
 ],
 "metadata": {
  "kernelspec": {
   "display_name": "Python 3",
   "language": "python",
   "name": "python3"
  },
  "language_info": {
   "codemirror_mode": {
    "name": "ipython",
    "version": 3
   },
   "file_extension": ".py",
   "mimetype": "text/x-python",
   "name": "python",
   "nbconvert_exporter": "python",
   "pygments_lexer": "ipython3",
   "version": "3.7.0"
  },
  "toc": {
   "colors": {
    "hover_highlight": "#DAA520",
    "running_highlight": "#FF0000",
    "selected_highlight": "#FFD700"
   },
   "moveMenuLeft": true,
   "nav_menu": {
    "height": "49px",
    "width": "252px"
   },
   "navigate_menu": true,
   "number_sections": false,
   "sideBar": true,
   "threshold": 4,
   "toc_cell": false,
   "toc_section_display": "block",
   "toc_window_display": false
  }
 },
 "nbformat": 4,
 "nbformat_minor": 1
}
